{
 "cells": [
  {
   "cell_type": "code",
   "execution_count": 1,
   "metadata": {},
   "outputs": [],
   "source": [
    "# main\n",
    "import requests\n",
    "import os.path\n",
    "import json\n",
    "from virustotal_python import Virustotal\n",
    "import rmv_js\n",
    "import rmv_hl"
   ]
  },
  {
   "cell_type": "code",
   "execution_count": 2,
   "metadata": {},
   "outputs": [],
   "source": [
    "# api_key = input(\"Enter API key : \")\n",
    "api_key = \"37bdd78a705ca736517be0e9e7196810414f1419f2a1c11278167a613dd4f83f\""
   ]
  },
  {
   "cell_type": "code",
   "execution_count": 4,
   "metadata": {},
   "outputs": [],
   "source": [
    "upload_option = input(\"Do you want to upload File or Folder ?\")"
   ]
  },
  {
   "cell_type": "code",
   "execution_count": 5,
   "metadata": {},
   "outputs": [],
   "source": [
    "class VT:\n",
    "    def __init__(self, key):\n",
    "        self.key = key\n",
    "\n",
    "    def upload_file(self, file):\n",
    "        super(VT, self).__init__()\n",
    "\n",
    "        vtotal = Virustotal(API_KEY = self.key)\n",
    "\n",
    "        self.file = file\n",
    "\n",
    "        if upload_option == \"File\" or upload_option == \"file\":\n",
    "\n",
    "            FILE_PATH = \"../Viruses_to_check/\" + file\n",
    "        \n",
    "        elif upload_option == \"Folder\" or upload_option == \"folder\":\n",
    "\n",
    "            FILE_PATH = \"../Viruses_to_check/Virus_Folder/\" + file\n",
    "\n",
    "        files = {\"file\": (os.path.basename(FILE_PATH), open(FILE_PATH, \"rb\"))}\n",
    "        resp = vtotal.request(\"file/scan\", files=files, method=\"POST\")\n",
    "\n",
    "        #print(resp.response_code)\n",
    "        data = resp.json()\n",
    "        return data\n",
    "\n",
    "\n",
    "    def upload_file_again(self, file):\n",
    "        super(VT, self).__init__()\n",
    "\n",
    "        vtotal = Virustotal(API_KEY=self.key)\n",
    "\n",
    "        self.file = file\n",
    "\n",
    "        FILE_PATH = \"../Viruses_to_check/Virus_changed2_Folder/\" + file\n",
    "\n",
    "        files = {\"file\": (os.path.basename(FILE_PATH),\n",
    "                        open(FILE_PATH, \"rb\"))}\n",
    "\n",
    "        resp = vtotal.request(\"file/scan\", files=files, method=\"POST\")\n",
    "\n",
    "        #print(resp.response_code)\n",
    "        data = resp.json()\n",
    "        return data\n",
    "\n",
    "        # def get_report_again(self, sha):\n",
    "        #     super(VT, self).__init__()\n",
    "\n",
    "        #     self.sha = sha\n",
    "        #     url = \"https://www.virustotal.com/api/v3/files/\" + sha\n",
    "\n",
    "        #     #print(url)\n",
    "        #     headers = {\n",
    "        #         \"Accept\": \"application/json\",\n",
    "        #         \"x-apikey\": self.key\n",
    "        #     }\n",
    "\n",
    "        #     response = requests.request(\"GET\", url, headers=headers)\n",
    "        #     data = response.text\n",
    "        #     json_data = json.loads(data)\n",
    "\n",
    "        #     vendors = json_data[\"data\"][\"attributes\"][\"last_analysis_results\"]\n",
    "\n",
    "        #     cnt = 0\n",
    "        #     mal_vendor_list = []\n",
    "        #     undet_vendor_list = []\n",
    "        #     for key, values in vendors.items():\n",
    "\n",
    "        #         #print(key, values['category'])\n",
    "\n",
    "        #         if values['category'] == 'malicious':\n",
    "        #             cnt += 1\n",
    "        #             mal_vendor_list.append(key)\n",
    "        #         elif values['category'] == 'undetected':\n",
    "        #             undet_vendor_list.append(key)\n",
    "\n",
    "        #     return cnt\n",
    "\n",
    "    def get_report(self, sha):\n",
    "        super(VT, self).__init__()\n",
    "\n",
    "        self.sha = sha\n",
    "        url = \"https://www.virustotal.com/api/v3/files/\" + sha\n",
    "\n",
    "        #print(url)\n",
    "        headers = {\n",
    "            \"Accept\": \"application/json\",\n",
    "            \"x-apikey\": self.key\n",
    "        }\n",
    "\n",
    "        response = requests.request(\"GET\", url, headers=headers)\n",
    "        data = response.text\n",
    "        json_data = json.loads(data)\n",
    "\n",
    "        vendors = json_data[\"data\"][\"attributes\"][\"last_analysis_results\"]\n",
    "\n",
    "        cnt = 0\n",
    "        mal_vendor_list = []\n",
    "        undet_vendor_list = []\n",
    "        for key, values in vendors.items():\n",
    "\n",
    "            #print(key, values['category'])\n",
    "\n",
    "            if values['category'] == 'malicious':\n",
    "                cnt += 1\n",
    "                mal_vendor_list.append(key)\n",
    "            elif values['category'] == 'undetected':\n",
    "                undet_vendor_list.append(key)\n",
    "\n",
    "        return cnt\n"
   ]
  },
  {
   "cell_type": "code",
   "execution_count": 6,
   "metadata": {},
   "outputs": [
    {
     "name": "stdout",
     "output_type": "stream",
     "text": [
      "File Uploaded\n",
      "SHA_ID is :  818478c70123256b6bc5d97db379a4e02b5aa6977493f57f670f3b32ea2e6a6c\n",
      "VirusTotal Report\n",
      "No. of Vendors that Flagged the file were :  14\n",
      "Uploaded Edited File\n",
      "New SHA_ID is : bea5340bef253fde7f6c766542dd9f0ecc19ca77b9781a0ad706dd251958053a\n",
      "VirusTotal Report\n",
      "No. of Vendors that Flagged the file were :  1\n"
     ]
    }
   ],
   "source": [
    "if upload_option == \"File\" or upload_option == \"file\" :\n",
    "    \n",
    "    obj = VT(api_key)\n",
    "    file_name = input(\"Enter your Malicious File Name : \")\n",
    "    obj.upload_file(file_name)\n",
    "    print(\"File Uploaded\")\n",
    "    sha256_id = obj.upload_file(file_name)['sha256']\n",
    "    print(\"SHA_ID is : \", sha256_id)\n",
    "    print(\"VirusTotal Report\")\n",
    "    count = obj.get_report(sha256_id)\n",
    "    \n",
    "    print(\"No. of Vendors that Flagged the file were : \", count)\n",
    "\n",
    "\n",
    "    choice = input(\n",
    "        \"Do you want to remove Executables like JavaScript and Hyperlinks from the Malicious File (y/n)? : \")\n",
    "    if choice == 'y':\n",
    "        edited_file = rmv_js.remove_javascript(file_name, upload_option)\n",
    "        edited_file = rmv_hl.remove_hyperlinks(edited_file, upload_option)\n",
    "        obj.upload_file(edited_file)\n",
    "        print(\"Uploaded Edited File\")\n",
    "        sha256_id_new = obj.upload_file(edited_file)['sha256']\n",
    "        print('New SHA_ID is :', sha256_id_new)\n",
    "        print(\"VirusTotal Report\")\n",
    "        changed_count  = obj.get_report(sha256_id_new)\n",
    "        print(\"No. of Vendors that Flagged the file were : \", changed_count)\n",
    "    elif choice == 'n':\n",
    "        exit(1)\n"
   ]
  },
  {
   "cell_type": "code",
   "execution_count": 7,
   "metadata": {},
   "outputs": [
    {
     "data": {
      "image/png": "[encoded data removed]",
      "text/plain": [
       "<Figure size 432x288 with 1 Axes>"
      ]
     },
     "metadata": {
      "needs_background": "light"
     },
     "output_type": "display_data"
    }
   ],
   "source": [
    "import matplotlib.pyplot as plt\n",
    "fig = plt.figure()\n",
    "ax = fig.add_axes([0, 0, 1, 1])\n",
    "numb = ['Initial Count','Final Count']\n",
    "no_cnt = [count, changed_count]\n",
    "ax.bar(numb, no_cnt)\n",
    "plt.show()\n"
   ]
  },
  {
   "cell_type": "code",
   "execution_count": 8,
   "metadata": {},
   "outputs": [],
   "source": [
    "import pandas as pd"
   ]
  },
  {
   "cell_type": "code",
   "execution_count": 9,
   "metadata": {},
   "outputs": [
    {
     "name": "stdout",
     "output_type": "stream",
     "text": [
      "{'Virus File Name': ['vfile_91'], 'Virus_SHA_ID': ['818478c70123256b6bc5d97db379a4e02b5aa6977493f57f670f3b32ea2e6a6c'], 'No. of Vendors flagged': [14]}\n",
      "\n",
      "{'Changed Virus File Name': ['vfile_91_ch_allrmved'], 'Virus_new_SHA_ID': ['bea5340bef253fde7f6c766542dd9f0ecc19ca77b9781a0ad706dd251958053a'], 'No. of Vendors flagged again': [1]}\n"
     ]
    }
   ],
   "source": [
    "frame1 = {'Virus File Name': [file_name], 'Virus_SHA_ID': [sha256_id],\n",
    "         'No. of Vendors flagged': [count]\n",
    "         }\n",
    "frame2 = {'Changed Virus File Name': [edited_file], 'Virus_new_SHA_ID': [sha256_id_new],\n",
    "          'No. of Vendors flagged again': [changed_count]}\n",
    "print(frame1)\n",
    "print()\n",
    "print(frame2)\n"
   ]
  },
  {
   "cell_type": "code",
   "execution_count": 12,
   "metadata": {},
   "outputs": [
    {
     "name": "stdout",
     "output_type": "stream",
     "text": [
      "   No. of Vendors flagged  No. of Vendors flagged again\n",
      "0                      14                             1\n"
     ]
    }
   ],
   "source": [
    "frame3 = {'No. of Vendors flagged': [count], 'No. of Vendors flagged again': [changed_count]}\n",
    "\n",
    "df3 = pd.DataFrame(frame3)\n",
    "print(df3)"
   ]
  },
  {
   "cell_type": "code",
   "execution_count": 10,
   "metadata": {},
   "outputs": [
    {
     "name": "stdout",
     "output_type": "stream",
     "text": [
      "  Virus File Name                                       Virus_SHA_ID  \\\n",
      "0        vfile_91  818478c70123256b6bc5d97db379a4e02b5aa6977493f5...   \n",
      "\n",
      "   No. of Vendors flagged  \n",
      "0                      14  \n",
      "  Changed Virus File Name                                   Virus_new_SHA_ID  \\\n",
      "0    vfile_91_ch_allrmved  bea5340bef253fde7f6c766542dd9f0ecc19ca77b9781a...   \n",
      "\n",
      "   No. of Vendors flagged again  \n",
      "0                             1  \n"
     ]
    }
   ],
   "source": [
    "df1 = pd.DataFrame(frame1)\n",
    "df2 = pd.DataFrame(frame2)\n",
    "print(df1)\n",
    "print(df2)\n"
   ]
  },
  {
   "cell_type": "code",
   "execution_count": 13,
   "metadata": {},
   "outputs": [],
   "source": [
    "df1.to_csv('DataFrame_initial.csv', index=False)\n",
    "df2.to_csv('DataFrame_final.csv', index=False)\n",
    "df3.to_csv('DF_combined.csv', index=False)"
   ]
  },
  {
   "cell_type": "code",
   "execution_count": null,
   "metadata": {},
   "outputs": [],
   "source": []
  },
  {
   "cell_type": "code",
   "execution_count": null,
   "metadata": {},
   "outputs": [],
   "source": [
    "# df01 = pd.read_csv('DataFrame_initial.csv', index_col=False)\n",
    "# df02 = pd.read_csv('DataFrame_final.csv', index_col=False)\n"
   ]
  },
  {
   "cell_type": "code",
   "execution_count": null,
   "metadata": {},
   "outputs": [],
   "source": [
    "# print(df01._get_value(0, 'No. of Vendors flagged'))\n",
    "# print(df02._get_value(0, 'No. of Vendors flagged again'))"
   ]
  },
  {
   "cell_type": "code",
   "execution_count": null,
   "metadata": {},
   "outputs": [],
   "source": [
    "import shutil\n",
    "import os"
   ]
  },
  {
   "cell_type": "code",
   "execution_count": null,
   "metadata": {},
   "outputs": [],
   "source": [
    "if upload_option == \"Folder\" or upload_option == \"folder\" :\n",
    "    os.listdir('../Viruses_to_check/Virus_Folder')            # To list files in folder\n",
    "\n",
    "    if not os.path.exists('Virus_changed1_Folder'):\n",
    "        os.mkdir('Virus_changed1_Folder')\n",
    "    if not os.path.exists('Virus_changed2_Folder'):\n",
    "        os.mkdir('Virus_changed2_Folder')\n",
    "\n",
    "    virus_list = []\n",
    "    virus_sha_list = []\n",
    "    virus_vendor_count = []\n",
    "    virus_new_list = []\n",
    "    virus_new_sha_list = []\n",
    "    virus_new_vendor_count = []\n",
    "\n",
    "    for file in os.listdir('../Viruses_to_check/Virus_Folder'):\n",
    "\n",
    "        obj = VT(api_key)\n",
    "        file_name = file\n",
    "        virus_list.append(file_name)\n",
    "        obj.upload_file(file_name)\n",
    "\n",
    "        sha256_id = obj.upload_file(file_name)['sha256']\n",
    "        virus_sha_list.append(sha256_id)\n",
    "\n",
    "        count = obj.get_report(sha256_id)\n",
    "        # print(count)\n",
    "        virus_vendor_count.append(count)\n",
    "\n",
    "\n",
    "    print(virus_list)\n",
    "    print(virus_sha_list)\n",
    "    print(virus_vendor_count)\n",
    "\n",
    "    "
   ]
  },
  {
   "cell_type": "code",
   "execution_count": null,
   "metadata": {},
   "outputs": [],
   "source": []
  },
  {
   "cell_type": "code",
   "execution_count": null,
   "metadata": {},
   "outputs": [],
   "source": [
    "if upload_option == \"Folder\" or upload_option == \"folder\":\n",
    "\n",
    "    for file in os.listdir('../Viruses_to_check/Virus_Folder'):\n",
    "        edited_file = rmv_js.remove_javascript(file, upload_option)\n",
    "        # print(edited_file)\n",
    "        # print(type(edited_file))\n",
    "        new_edit_file = os.path.basename(edited_file)\n",
    "        # print(new_edit_file)\n",
    "        \n",
    "        fil_src = '../Viruses_to_check/Virus_Folder/' + new_edit_file\n",
    "        fil_dst = '../Viruses_to_check/Virus_changed1_Folder'\n",
    "        shutil.move(fil_src, fil_dst)\n",
    "    \n",
    "    for file in os.listdir('../Viruses_to_check/Virus_changed1_Folder'):\n",
    "            # print(file)\n",
    "        new_edit_file = rmv_hl.remove_hyperlinks(file, upload_option)\n",
    "        # print(new_edit_file)\n",
    "\n",
    "        fil_src = '../Viruses_to_check/' + new_edit_file\n",
    "        fil_dst = '../Viruses_to_check/Virus_changed2_Folder'\n",
    "        shutil.move(fil_src, fil_dst)\n",
    "    \n",
    "    for file in os.listdir('../Viruses_to_check/Virus_changed2_Folder'):\n",
    "        # print(file)\n",
    "        virus_new_list.append(file)\n",
    "\n",
    "        obj.upload_file_again(file)\n",
    "\n",
    "        sha256_id_new = obj.upload_file_again(file)['sha256']\n",
    "        virus_new_sha_list.append(sha256_id_new)\n",
    "\n",
    "        new_count = obj.get_report(sha256_id_new)\n",
    "        virus_new_vendor_count.append(new_count)\n",
    "\n",
    "    print(virus_new_list)\n",
    "    print(virus_new_sha_list)\n",
    "    print(virus_new_vendor_count)\n"
   ]
  },
  {
   "cell_type": "markdown",
   "metadata": {},
   "source": [
    "# Converting the Data Recieved into DataFrame\n"
   ]
  },
  {
   "cell_type": "code",
   "execution_count": null,
   "metadata": {},
   "outputs": [],
   "source": [
    "import pandas as pd"
   ]
  },
  {
   "cell_type": "code",
   "execution_count": null,
   "metadata": {},
   "outputs": [],
   "source": [
    "frame = {'Virus File Name': virus_list, 'Virus_SHA_ID': virus_sha_list,\n",
    "         'Number of Vendors flagged': virus_vendor_count , \n",
    "         'Changed Virus File Name': virus_new_list, 'Virus_new_SHA_ID': virus_new_sha_list,\n",
    "         'Number of Vendors flagged again' : virus_new_vendor_count }\n",
    "print(frame)"
   ]
  },
  {
   "cell_type": "code",
   "execution_count": null,
   "metadata": {},
   "outputs": [],
   "source": [
    "df = pd.DataFrame(frame)\n",
    "print(df)"
   ]
  },
  {
   "cell_type": "code",
   "execution_count": null,
   "metadata": {},
   "outputs": [],
   "source": [
    "df.to_csv('DataFrames.csv')"
   ]
  },
  {
   "cell_type": "code",
   "execution_count": null,
   "metadata": {},
   "outputs": [],
   "source": []
  }
 ],
 "metadata": {
  "interpreter": {
   "hash": "7357342c28b9427862d1765b5eaa8f866f9ef129df352f14d978f3068f1a2a77"
  },
  "kernelspec": {
   "display_name": "Python 3.8.8 64-bit ('base': conda)",
   "language": "python",
   "name": "python3"
  },
  "language_info": {
   "codemirror_mode": {
    "name": "ipython",
    "version": 3
   },
   "file_extension": ".py",
   "mimetype": "text/x-python",
   "name": "python",
   "nbconvert_exporter": "python",
   "pygments_lexer": "ipython3",
   "version": "3.8.8"
  },
  "orig_nbformat": 4
 },
 "nbformat": 4,
 "nbformat_minor": 2
}
